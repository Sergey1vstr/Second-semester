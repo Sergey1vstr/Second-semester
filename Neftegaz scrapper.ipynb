{
 "cells": [
  {
   "cell_type": "code",
   "execution_count": 38,
   "id": "operational-potential",
   "metadata": {},
   "outputs": [
    {
     "name": "stdin",
     "output_type": "stream",
     "text": [
      "Введите абсолютный путь к файлу:  C:\\Users\\User\\Desktop\\Политех учеба\\Программирование\\test_schedule.inc\n"
     ]
    },
    {
     "data": {
      "text/plain": [
       "\"COMPDAT\\n-- СЃ РґРІСѓС… С‚РёСЂРµ РЅР°С‡РёРЅР°РµС‚СЃСЏ РєРѕРјРјРµРЅС‚Р°СЂРёР№\\n'W1' 10 10  1   3 \\tOPEN \\t1* \\t1\\t2 \\t1 \\t3* \\t\\t\\t1.0 /  -- Рё РєРѕРјРјРµРЅС‚Р°СЂРёРё РјРѕРіСѓС‚ Р±С‹С‚СЊ\\n'W2' 32 10  1   3 \\tOPEN \\t1* \\t1 \\t2 \\t1 \\t3* \\t\\t\\t2.0 /\\n/  -- РїСЂР°РєС‚РёС‡РµСЃРєРё РіРґРµ СѓРіРѕРґРЅРѕ\\n\\nCOMPDAT\\n-- РµСЃР»Рё Сѓ РЅР°СЃ РЅРµСЃРєРѕР»СЊРєРѕ СЃРµРєС†РёР№ РЅР° РѕРґРЅСѓ РґР°С‚Сѓ, С‚Рѕ РёС… РёРјРµРµС‚ СЃРјС‹СЃР» РѕР±СЉРµРґРёРЅРёС‚СЊ РІ РѕРґРЅСѓ\\n'W3' 5  36  2   2 \\tOPEN \\t1* \\t1 \\t2 \\t1 \\t3* \\t\\t\\t3.0 /\\n'W4' 40 30  1   3 \\tOPEN \\t1* \\t1 \\t2 \\t1 \\t3* \\t\\t\\t4.0 /\\n/\\n\\nCOMPDAT\\n-- СЌС‚Рё С‚СЂРё СЃРµРєС†РёРё (РѕРґРЅР°, СЂР°Р·Р±РёС‚Р°СЏ РЅР° С‚СЂРё) РІРЅРµ РґР°С‚, РЅРѕ РјС‹ РЅРµ РґРѕР»Р¶РЅС‹ РёС… РїРѕС‚РµСЂСЏС‚СЊ РїСЂРё РїР°СЂСЃРёРЅРіРµ\\n'W5' 21 21  4   4 \\tOPEN \\t1* \\t1 \\t2 \\t1\\t3* \\t\\t\\t5.0 /\\n/\\n\\nDATES\\n01 JUN 2018 /\\n/\\n\\n-- РµСЃС‚СЊ РµС‰Рµ РјРЅРѕР¶РµСЃС‚РІРѕ РґСЂСѓРіРёС… РєР»СЋС‡РµРІС‹С… СЃР»РѕРІ, РЅР°РїСЂРёРјРµСЂ, WEFAC,\\n-- РЅРѕ РѕРЅРё РЅР°СЃ РЅРµ РёРЅС‚РµСЂРµСЃСѓСЋС‚ РІ СЌС‚РѕР№ Р·Р°РґР°С‡Рµ, РјРѕР¶РµРј СЃРјРµР»Рѕ РёС… РїСЂРѕРїСѓСЃРєР°С‚СЊ\\n-- РєСЃС‚Р°С‚Рё, РЅР° СЌС‚Сѓ РґР°С‚Сѓ РЅРµС‚ РёРЅС‚РµСЂРµСЃСѓСЋС‰РёС… РЅР°СЃ СЃРµРєС†РёР№\\nWEFAC\\n W1\\t1.0\\t/\\n/\\n\\nDATES\\n01 JUL 2018 /\\n/\\n\\nCOMPDAT\\n'W3' 32 10  1   1 \\tOPEN \\t1* \\t1 \\t2 \\t1 \\t3* \\t\\t\\t1.0718 /\\n'W5' 21 21  1   3 \\tOPEN \\t1* \\t1 \\t2 \\t1\\t3* \\t\\t\\t5.0 /\\n/\\n\\nDATES\\n01 AUG 2018 /  -- РґР°С‚С‹ РјРѕР¶РЅРѕ РѕР±СЉРµРґРёРЅСЏС‚СЊ,\\n01 SEP 2018 /  -- РЅРѕ С‚РѕР»СЊРєРѕ РЅР° РїРѕСЃР»РµРґРЅСЋСЋ РјС‹ РїРѕР»СѓС‡РёРј РѕС‚С‡РµС‚\\n/\\n\\nCOMPDAT\\n'W1' 10 10  2   3 \\tOPEN \\t1* \\t1\\t2 \\t1 \\t3* \\t\\t\\t1.0918 /\\n'W2' 32 10  1   2 \\tOPEN \\t1* \\t1 \\t2 \\t1 \\t3* \\t\\t\\t2.0 /\\n/\\n\\nCOMPDATL\\n'W3' 'LGR1' 10 10  2   2 \\tOPEN \\t1* \\t1\\t2 \\t1 \\t3* \\t\\t\\t1.0918 /\\n/\\n\\nDATES\\n01 OCT 2018 /\\n/\\n\\nDATES\\n01 NOV 2018 /\\n/\\n\\nDATES\\n01 DEC 2018 /\\n/\\n\\nEND\\n\""
      ]
     },
     "execution_count": 38,
     "metadata": {},
     "output_type": "execute_result"
    }
   ],
   "source": [
    "file_path = input(\"Введите абсолютный путь к файлу: \") # C:\\Users\\User\\Desktop\\Политех учеба\\Программирование\\test_schedule.inc\n",
    "file = open(file_path, \"r\")\n",
    "file.read()"
   ]
  },
  {
   "cell_type": "code",
   "execution_count": null,
   "id": "periodic-cycling",
   "metadata": {},
   "outputs": [],
   "source": []
  }
 ],
 "metadata": {
  "kernelspec": {
   "display_name": "Python 3",
   "language": "python",
   "name": "python3"
  },
  "language_info": {
   "codemirror_mode": {
    "name": "ipython",
    "version": 3
   },
   "file_extension": ".py",
   "mimetype": "text/x-python",
   "name": "python",
   "nbconvert_exporter": "python",
   "pygments_lexer": "ipython3",
   "version": "3.9.1"
  }
 },
 "nbformat": 4,
 "nbformat_minor": 5
}
